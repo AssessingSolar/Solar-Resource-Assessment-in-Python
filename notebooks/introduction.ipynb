# Introduction


The guide book will be using the recommended terminology for [PV Modeling](https://duramat.github.io/pv-terms/)
